{
 "cells": [
  {
   "cell_type": "code",
   "execution_count": 212,
   "metadata": {},
   "outputs": [],
   "source": [
    "import pandas as pd\n",
    "import re\n",
    "from random import randrange\n",
    "from PETRUS.g2p.g2p import G2PTranscriber\n",
    "from PETRUS.stress.tonic import StressDetector"
   ]
  },
  {
   "cell_type": "code",
   "execution_count": 213,
   "metadata": {},
   "outputs": [],
   "source": [
    "file_path = 'output/words.csv'\n",
    "df = pd.read_csv(file_path)"
   ]
  },
  {
   "cell_type": "code",
   "execution_count": 214,
   "metadata": {},
   "outputs": [],
   "source": [
    "def is_vowel(char):\n",
    "    # Define a regex pattern for vowels including accented ones\n",
    "    padrao = r'[aeiouáàâãäåéèêëíìîïóòôõöúùûüýÿ]'\n",
    "    return bool(re.fullmatch(padrao, char, re.IGNORECASE))\n",
    "\n",
    "def tem_acentos(palavra):\n",
    "    # Regex para encontrar caracteres acentuados\n",
    "    padrao = r'[áàâãäåéèêëíìîïóòôõöúùûüýÿ]'\n",
    "    return bool(re.search(padrao, palavra))\n",
    "\n",
    "def separate_syllables(word):\n",
    "    syllables = G2PTranscriber(word, algorithm=\"ceci\").get_syllables() \n",
    "    if 'i' in syllables:\n",
    "        syllables = G2PTranscriber(word, algorithm=\"silva\").get_syllables()\n",
    "    return syllables"
   ]
  },
  {
   "cell_type": "code",
   "execution_count": 215,
   "metadata": {},
   "outputs": [
    {
     "name": "stdout",
     "output_type": "stream",
     "text": [
      "140: ['abaixo', 'aberta', 'aberto', 'abismo', 'abrindo', 'abriu', 'acaba', 'acaso', 'aceita', 'aceito', 'acerca', 'achado', 'achava', 'acima', 'acordo', 'admira', 'afeto', 'agora', 'agosto', 'ainda', 'alberto', 'alcova', 'alegre', 'alfredo', 'alguma', 'almoço', 'altura', 'amada', 'amado', 'amante', 'amava', 'amiga', 'amigo', 'andando', 'andava', 'andrade', 'antiga', 'antigo', 'aquela', 'aquele', 'aquilo', 'ardente', 'artigo', 'artista', 'aspecto', 'assunto', 'augusta', 'augusto', 'aurora', 'eduardo', 'efeito', 'elisa', 'embaixo', 'embora', 'emprego', 'empresa', 'encontro', 'enfermo', 'engano', 'engenho', 'enorme', 'enquanto', 'enterro', 'entrada', 'entrando', 'entrava', 'entregue', 'ernesto', 'escada', 'escola', 'escolha', 'escolho', 'escrava', 'escravo', 'escreve', 'escrita', 'escrito', 'escuro', 'esforço', 'espada', 'espanto', 'espaço', 'espelho', 'espera', 'espero', 'esposa', 'esposo', 'esquerda', 'esquina', 'estado', 'estando', 'estava', 'esteja', 'estela', 'esteve', 'estilo', 'estima', 'estrada', 'estranha', 'estranho', 'estrela', 'estudo', 'estêvão', 'eterna', 'eterno', 'europa', 'excia', 'exemplo', 'existe', 'havia', 'helena', 'henrique', 'herança', 'houvesse', 'humana', 'humano', 'idade', 'igreja', 'ilustre', 'imenso', 'importa', 'imprensa', 'inglesa', 'instante', 'inteira', 'inteiro', 'inveja', 'iria', 'objeto', 'obstante', 'olhando', 'olhava', 'orgulho', 'outrora', 'outubro', 'ouvia', 'ouvido', 'ouvindo', 'ouvira', 'ouviu']\n"
     ]
    }
   ],
   "source": [
    "def find_matches(word):\n",
    "    syllables = separate_syllables(word)\n",
    "    syllables_count = len(syllables)\n",
    "    stressed_syllable_position = StressDetector(word).get_stress_syllable(syllables)\n",
    "    stressed_syllable_idx = len(syllables) - syllables.index(word[stressed_syllable_position[0]:stressed_syllable_position[1]])\n",
    "\n",
    "    return df[\n",
    "        (df['start_with_vowel'] == is_vowel(word[0])) & \n",
    "        (df['end_with_vowel'] == is_vowel(word[-1])) & \n",
    "        (df['stressed_syllable_idx'] == stressed_syllable_idx) &\n",
    "        (df['syllable_count'] == syllables_count)\n",
    "    ]\n",
    "\n",
    "word = 'oxente'\n",
    "matches = list(find_matches(word)['word'])\n",
    "print(len(matches), matches, sep=': ')"
   ]
  },
  {
   "cell_type": "code",
   "execution_count": 216,
   "metadata": {},
   "outputs": [],
   "source": [
    "def generate_isorhythmic_verse(verse):\n",
    "    new_verse = []\n",
    "    for word in verse.split(\" \"):\n",
    "        if len(word) > 1:\n",
    "            matches = list(find_matches(word.lower())['word'])\n",
    "            if len(matches) > 0:\n",
    "                idx = randrange(len(matches))\n",
    "                new_verse.append(matches[idx].title() if word.istitle() else matches[idx])\n",
    "            else:\n",
    "                new_verse.append(word)\n",
    "        else:\n",
    "            new_verse.append(word)\n",
    "\n",
    "    return ' '.join(new_verse)"
   ]
  },
  {
   "cell_type": "code",
   "execution_count": 223,
   "metadata": {},
   "outputs": [
    {
     "data": {
      "text/plain": [
       "'Aplausos tu acontece ah cores séculos'"
      ]
     },
     "execution_count": 223,
     "metadata": {},
     "output_type": "execute_result"
    }
   ],
   "source": [
    "verse = 'Ouviram do ipiranga as margens plácidas'\n",
    "generate_isorhythmic_verse(verse)"
   ]
  }
 ],
 "metadata": {
  "kernelspec": {
   "display_name": "Python 3",
   "language": "python",
   "name": "python3"
  },
  "language_info": {
   "codemirror_mode": {
    "name": "ipython",
    "version": 3
   },
   "file_extension": ".py",
   "mimetype": "text/x-python",
   "name": "python",
   "nbconvert_exporter": "python",
   "pygments_lexer": "ipython3",
   "version": "3.11.0"
  }
 },
 "nbformat": 4,
 "nbformat_minor": 2
}
